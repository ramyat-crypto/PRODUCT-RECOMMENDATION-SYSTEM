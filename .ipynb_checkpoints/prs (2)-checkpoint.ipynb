{
 "cells": [
  {
   "cell_type": "markdown",
   "metadata": {
    "colab_type": "text",
    "id": "rpCEra7Hgbyx"
   },
   "source": [
    "# PRODUCT RECOMMENDATION SYSTEM"
   ]
  },
  {
   "cell_type": "markdown",
   "metadata": {
    "colab_type": "text",
    "id": "NYiAjb_Egbyz"
   },
   "source": [
    "# System based on customer's purchase history and ratings provided by other users who bought items similar items"
   ]
  },
  {
   "cell_type": "code",
   "execution_count": 1,
   "metadata": {
    "colab": {},
    "colab_type": "code",
    "id": "JFrG3Fw9gby0"
   },
   "outputs": [],
   "source": [
    "import numpy as np\n",
    "import pandas as pd"
   ]
  },
  {
   "cell_type": "code",
   "execution_count": 2,
   "metadata": {
    "colab": {},
    "colab_type": "code",
    "id": "CLThhXRYgby7"
   },
   "outputs": [],
   "source": [
    "# read the data from csv file using pandas"
   ]
  },
  {
   "cell_type": "code",
   "execution_count": 3,
   "metadata": {
    "colab": {
     "base_uri": "https://localhost:8080/",
     "height": 920
    },
    "colab_type": "code",
    "id": "lWeaANQigbzA",
    "outputId": "4976d45b-e6b8-4712-a688-10ad97a6e204"
   },
   "outputs": [
    {
     "data": {
      "text/html": [
       "<div>\n",
       "<style scoped>\n",
       "    .dataframe tbody tr th:only-of-type {\n",
       "        vertical-align: middle;\n",
       "    }\n",
       "\n",
       "    .dataframe tbody tr th {\n",
       "        vertical-align: top;\n",
       "    }\n",
       "\n",
       "    .dataframe thead th {\n",
       "        text-align: right;\n",
       "    }\n",
       "</style>\n",
       "<table border=\"1\" class=\"dataframe\">\n",
       "  <thead>\n",
       "    <tr style=\"text-align: right;\">\n",
       "      <th></th>\n",
       "      <th>reviewerID</th>\n",
       "      <th>asin</th>\n",
       "      <th>reviewerName</th>\n",
       "      <th>helpful</th>\n",
       "      <th>reviewText</th>\n",
       "      <th>overall</th>\n",
       "      <th>summary</th>\n",
       "      <th>unixReviewTime</th>\n",
       "      <th>reviewTime</th>\n",
       "    </tr>\n",
       "  </thead>\n",
       "  <tbody>\n",
       "    <tr>\n",
       "      <th>0</th>\n",
       "      <td>A2IBPI20UZIR0U</td>\n",
       "      <td>1384719342</td>\n",
       "      <td>cassandra tu \"Yeah, well, that's just like, u...</td>\n",
       "      <td>[0, 0]</td>\n",
       "      <td>Not much to write about here, but it does exac...</td>\n",
       "      <td>5.0</td>\n",
       "      <td>good</td>\n",
       "      <td>1393545600</td>\n",
       "      <td>02 28, 2014</td>\n",
       "    </tr>\n",
       "    <tr>\n",
       "      <th>1</th>\n",
       "      <td>A14VAT5EAX3D9S</td>\n",
       "      <td>1384719342</td>\n",
       "      <td>Jake</td>\n",
       "      <td>[13, 14]</td>\n",
       "      <td>The product does exactly as it should and is q...</td>\n",
       "      <td>5.0</td>\n",
       "      <td>Jake</td>\n",
       "      <td>1363392000</td>\n",
       "      <td>03 16, 2013</td>\n",
       "    </tr>\n",
       "    <tr>\n",
       "      <th>2</th>\n",
       "      <td>A195EZSQDW3E21</td>\n",
       "      <td>1384719342</td>\n",
       "      <td>Rick Bennette \"Rick Bennette\"</td>\n",
       "      <td>[1, 1]</td>\n",
       "      <td>The primary job of this device is to block the...</td>\n",
       "      <td>5.0</td>\n",
       "      <td>It Does The Job Well</td>\n",
       "      <td>1377648000</td>\n",
       "      <td>08 28, 2013</td>\n",
       "    </tr>\n",
       "    <tr>\n",
       "      <th>3</th>\n",
       "      <td>A2C00NNG1ZQQG2</td>\n",
       "      <td>1384719342</td>\n",
       "      <td>RustyBill \"Sunday Rocker\"</td>\n",
       "      <td>[0, 0]</td>\n",
       "      <td>Nice windscreen protects my MXL mic and preven...</td>\n",
       "      <td>5.0</td>\n",
       "      <td>GOOD WINDSCREEN FOR THE MONEY</td>\n",
       "      <td>1392336000</td>\n",
       "      <td>02 14, 2014</td>\n",
       "    </tr>\n",
       "    <tr>\n",
       "      <th>4</th>\n",
       "      <td>A94QU4C90B1AX</td>\n",
       "      <td>1384719342</td>\n",
       "      <td>SEAN MASLANKA</td>\n",
       "      <td>[0, 0]</td>\n",
       "      <td>This pop filter is great. It looks and perform...</td>\n",
       "      <td>5.0</td>\n",
       "      <td>No more pops when I record my vocals.</td>\n",
       "      <td>1392940800</td>\n",
       "      <td>02 21, 2014</td>\n",
       "    </tr>\n",
       "    <tr>\n",
       "      <th>5</th>\n",
       "      <td>A2A039TZMZHH9Y</td>\n",
       "      <td>B00004Y2UT</td>\n",
       "      <td>Bill Lewey \"blewey\"</td>\n",
       "      <td>[0, 0]</td>\n",
       "      <td>So good that I bought another one.  Love the h...</td>\n",
       "      <td>5.0</td>\n",
       "      <td>The Best Cable</td>\n",
       "      <td>1356048000</td>\n",
       "      <td>12 21, 2012</td>\n",
       "    </tr>\n",
       "    <tr>\n",
       "      <th>6</th>\n",
       "      <td>A1UPZM995ZAH90</td>\n",
       "      <td>B00004Y2UT</td>\n",
       "      <td>Brian</td>\n",
       "      <td>[0, 0]</td>\n",
       "      <td>I have used monster cables for years, and with...</td>\n",
       "      <td>5.0</td>\n",
       "      <td>Monster Standard 100 - 21' Instrument Cable</td>\n",
       "      <td>1390089600</td>\n",
       "      <td>01 19, 2014</td>\n",
       "    </tr>\n",
       "    <tr>\n",
       "      <th>7</th>\n",
       "      <td>AJNFQI3YR6XJ5</td>\n",
       "      <td>B00004Y2UT</td>\n",
       "      <td>Fender Guy \"Rick\"</td>\n",
       "      <td>[0, 0]</td>\n",
       "      <td>I now use this cable to run from the output of...</td>\n",
       "      <td>3.0</td>\n",
       "      <td>Didn't fit my 1996 Fender Strat...</td>\n",
       "      <td>1353024000</td>\n",
       "      <td>11 16, 2012</td>\n",
       "    </tr>\n",
       "    <tr>\n",
       "      <th>8</th>\n",
       "      <td>A3M1PLEYNDEYO8</td>\n",
       "      <td>B00004Y2UT</td>\n",
       "      <td>G. Thomas \"Tom\"</td>\n",
       "      <td>[0, 0]</td>\n",
       "      <td>Perfect for my Epiphone Sheraton II.  Monster ...</td>\n",
       "      <td>5.0</td>\n",
       "      <td>Great cable</td>\n",
       "      <td>1215302400</td>\n",
       "      <td>07 6, 2008</td>\n",
       "    </tr>\n",
       "    <tr>\n",
       "      <th>9</th>\n",
       "      <td>AMNTZU1YQN1TH</td>\n",
       "      <td>B00004Y2UT</td>\n",
       "      <td>Kurt Robair</td>\n",
       "      <td>[0, 0]</td>\n",
       "      <td>Monster makes the best cables and a lifetime w...</td>\n",
       "      <td>5.0</td>\n",
       "      <td>Best Instrument Cables On The Market</td>\n",
       "      <td>1389139200</td>\n",
       "      <td>01 8, 2014</td>\n",
       "    </tr>\n",
       "  </tbody>\n",
       "</table>\n",
       "</div>"
      ],
      "text/plain": [
       "       reviewerID        asin  \\\n",
       "0  A2IBPI20UZIR0U  1384719342   \n",
       "1  A14VAT5EAX3D9S  1384719342   \n",
       "2  A195EZSQDW3E21  1384719342   \n",
       "3  A2C00NNG1ZQQG2  1384719342   \n",
       "4   A94QU4C90B1AX  1384719342   \n",
       "5  A2A039TZMZHH9Y  B00004Y2UT   \n",
       "6  A1UPZM995ZAH90  B00004Y2UT   \n",
       "7   AJNFQI3YR6XJ5  B00004Y2UT   \n",
       "8  A3M1PLEYNDEYO8  B00004Y2UT   \n",
       "9   AMNTZU1YQN1TH  B00004Y2UT   \n",
       "\n",
       "                                       reviewerName   helpful  \\\n",
       "0  cassandra tu \"Yeah, well, that's just like, u...    [0, 0]   \n",
       "1                                              Jake  [13, 14]   \n",
       "2                     Rick Bennette \"Rick Bennette\"    [1, 1]   \n",
       "3                         RustyBill \"Sunday Rocker\"    [0, 0]   \n",
       "4                                     SEAN MASLANKA    [0, 0]   \n",
       "5                               Bill Lewey \"blewey\"    [0, 0]   \n",
       "6                                             Brian    [0, 0]   \n",
       "7                                 Fender Guy \"Rick\"    [0, 0]   \n",
       "8                                   G. Thomas \"Tom\"    [0, 0]   \n",
       "9                                       Kurt Robair    [0, 0]   \n",
       "\n",
       "                                          reviewText  overall  \\\n",
       "0  Not much to write about here, but it does exac...      5.0   \n",
       "1  The product does exactly as it should and is q...      5.0   \n",
       "2  The primary job of this device is to block the...      5.0   \n",
       "3  Nice windscreen protects my MXL mic and preven...      5.0   \n",
       "4  This pop filter is great. It looks and perform...      5.0   \n",
       "5  So good that I bought another one.  Love the h...      5.0   \n",
       "6  I have used monster cables for years, and with...      5.0   \n",
       "7  I now use this cable to run from the output of...      3.0   \n",
       "8  Perfect for my Epiphone Sheraton II.  Monster ...      5.0   \n",
       "9  Monster makes the best cables and a lifetime w...      5.0   \n",
       "\n",
       "                                       summary  unixReviewTime   reviewTime  \n",
       "0                                         good      1393545600  02 28, 2014  \n",
       "1                                         Jake      1363392000  03 16, 2013  \n",
       "2                         It Does The Job Well      1377648000  08 28, 2013  \n",
       "3                GOOD WINDSCREEN FOR THE MONEY      1392336000  02 14, 2014  \n",
       "4        No more pops when I record my vocals.      1392940800  02 21, 2014  \n",
       "5                               The Best Cable      1356048000  12 21, 2012  \n",
       "6  Monster Standard 100 - 21' Instrument Cable      1390089600  01 19, 2014  \n",
       "7           Didn't fit my 1996 Fender Strat...      1353024000  11 16, 2012  \n",
       "8                                  Great cable      1215302400   07 6, 2008  \n",
       "9         Best Instrument Cables On The Market      1389139200   01 8, 2014  "
      ]
     },
     "execution_count": 3,
     "metadata": {},
     "output_type": "execute_result"
    }
   ],
   "source": [
    "dataset = pd.read_csv('Musical_instruments_reviews.csv')\n",
    "dataset.head(10)"
   ]
  },
  {
   "cell_type": "code",
   "execution_count": 4,
   "metadata": {
    "colab": {
     "base_uri": "https://localhost:8080/",
     "height": 34
    },
    "colab_type": "code",
    "id": "CIb5nDuogbzJ",
    "outputId": "bbf6ef35-5dd2-4499-859f-0cdbf446da04"
   },
   "outputs": [
    {
     "data": {
      "text/plain": [
       "(10261, 9)"
      ]
     },
     "execution_count": 4,
     "metadata": {},
     "output_type": "execute_result"
    }
   ],
   "source": [
    "#check the shape of dataset\n",
    "dataset.shape"
   ]
  },
  {
   "cell_type": "code",
   "execution_count": 5,
   "metadata": {
    "colab": {
     "base_uri": "https://localhost:8080/",
     "height": 297
    },
    "colab_type": "code",
    "id": "jNRsqLQzgbzQ",
    "outputId": "fd7ef2dc-942a-44d4-cf9a-384a5bd0eec7"
   },
   "outputs": [
    {
     "data": {
      "text/html": [
       "<div>\n",
       "<style scoped>\n",
       "    .dataframe tbody tr th:only-of-type {\n",
       "        vertical-align: middle;\n",
       "    }\n",
       "\n",
       "    .dataframe tbody tr th {\n",
       "        vertical-align: top;\n",
       "    }\n",
       "\n",
       "    .dataframe thead th {\n",
       "        text-align: right;\n",
       "    }\n",
       "</style>\n",
       "<table border=\"1\" class=\"dataframe\">\n",
       "  <thead>\n",
       "    <tr style=\"text-align: right;\">\n",
       "      <th></th>\n",
       "      <th>overall</th>\n",
       "      <th>unixReviewTime</th>\n",
       "    </tr>\n",
       "  </thead>\n",
       "  <tbody>\n",
       "    <tr>\n",
       "      <th>count</th>\n",
       "      <td>10261.000000</td>\n",
       "      <td>1.026100e+04</td>\n",
       "    </tr>\n",
       "    <tr>\n",
       "      <th>mean</th>\n",
       "      <td>4.488744</td>\n",
       "      <td>1.360606e+09</td>\n",
       "    </tr>\n",
       "    <tr>\n",
       "      <th>std</th>\n",
       "      <td>0.894642</td>\n",
       "      <td>3.779735e+07</td>\n",
       "    </tr>\n",
       "    <tr>\n",
       "      <th>min</th>\n",
       "      <td>1.000000</td>\n",
       "      <td>1.095466e+09</td>\n",
       "    </tr>\n",
       "    <tr>\n",
       "      <th>25%</th>\n",
       "      <td>4.000000</td>\n",
       "      <td>1.343434e+09</td>\n",
       "    </tr>\n",
       "    <tr>\n",
       "      <th>50%</th>\n",
       "      <td>5.000000</td>\n",
       "      <td>1.368490e+09</td>\n",
       "    </tr>\n",
       "    <tr>\n",
       "      <th>75%</th>\n",
       "      <td>5.000000</td>\n",
       "      <td>1.388966e+09</td>\n",
       "    </tr>\n",
       "    <tr>\n",
       "      <th>max</th>\n",
       "      <td>5.000000</td>\n",
       "      <td>1.405987e+09</td>\n",
       "    </tr>\n",
       "  </tbody>\n",
       "</table>\n",
       "</div>"
      ],
      "text/plain": [
       "            overall  unixReviewTime\n",
       "count  10261.000000    1.026100e+04\n",
       "mean       4.488744    1.360606e+09\n",
       "std        0.894642    3.779735e+07\n",
       "min        1.000000    1.095466e+09\n",
       "25%        4.000000    1.343434e+09\n",
       "50%        5.000000    1.368490e+09\n",
       "75%        5.000000    1.388966e+09\n",
       "max        5.000000    1.405987e+09"
      ]
     },
     "execution_count": 5,
     "metadata": {},
     "output_type": "execute_result"
    }
   ],
   "source": [
    "#describe the datset\n",
    "dataset.describe()"
   ]
  },
  {
   "cell_type": "code",
   "execution_count": 6,
   "metadata": {
    "colab": {
     "base_uri": "https://localhost:8080/",
     "height": 419
    },
    "colab_type": "code",
    "id": "HFMbOpqpgbzV",
    "outputId": "d8d56f8a-f129-4f4d-a37a-82e0600cff69"
   },
   "outputs": [
    {
     "data": {
      "text/html": [
       "<div>\n",
       "<style scoped>\n",
       "    .dataframe tbody tr th:only-of-type {\n",
       "        vertical-align: middle;\n",
       "    }\n",
       "\n",
       "    .dataframe tbody tr th {\n",
       "        vertical-align: top;\n",
       "    }\n",
       "\n",
       "    .dataframe thead th {\n",
       "        text-align: right;\n",
       "    }\n",
       "</style>\n",
       "<table border=\"1\" class=\"dataframe\">\n",
       "  <thead>\n",
       "    <tr style=\"text-align: right;\">\n",
       "      <th></th>\n",
       "      <th>reviewerID</th>\n",
       "      <th>asin</th>\n",
       "      <th>reviewerName</th>\n",
       "      <th>helpful</th>\n",
       "      <th>reviewText</th>\n",
       "      <th>overall</th>\n",
       "      <th>summary</th>\n",
       "      <th>unixReviewTime</th>\n",
       "      <th>reviewTime</th>\n",
       "    </tr>\n",
       "  </thead>\n",
       "  <tbody>\n",
       "    <tr>\n",
       "      <th>0</th>\n",
       "      <td>False</td>\n",
       "      <td>False</td>\n",
       "      <td>False</td>\n",
       "      <td>False</td>\n",
       "      <td>False</td>\n",
       "      <td>False</td>\n",
       "      <td>False</td>\n",
       "      <td>False</td>\n",
       "      <td>False</td>\n",
       "    </tr>\n",
       "    <tr>\n",
       "      <th>1</th>\n",
       "      <td>False</td>\n",
       "      <td>False</td>\n",
       "      <td>False</td>\n",
       "      <td>False</td>\n",
       "      <td>False</td>\n",
       "      <td>False</td>\n",
       "      <td>False</td>\n",
       "      <td>False</td>\n",
       "      <td>False</td>\n",
       "    </tr>\n",
       "    <tr>\n",
       "      <th>2</th>\n",
       "      <td>False</td>\n",
       "      <td>False</td>\n",
       "      <td>False</td>\n",
       "      <td>False</td>\n",
       "      <td>False</td>\n",
       "      <td>False</td>\n",
       "      <td>False</td>\n",
       "      <td>False</td>\n",
       "      <td>False</td>\n",
       "    </tr>\n",
       "    <tr>\n",
       "      <th>3</th>\n",
       "      <td>False</td>\n",
       "      <td>False</td>\n",
       "      <td>False</td>\n",
       "      <td>False</td>\n",
       "      <td>False</td>\n",
       "      <td>False</td>\n",
       "      <td>False</td>\n",
       "      <td>False</td>\n",
       "      <td>False</td>\n",
       "    </tr>\n",
       "    <tr>\n",
       "      <th>4</th>\n",
       "      <td>False</td>\n",
       "      <td>False</td>\n",
       "      <td>False</td>\n",
       "      <td>False</td>\n",
       "      <td>False</td>\n",
       "      <td>False</td>\n",
       "      <td>False</td>\n",
       "      <td>False</td>\n",
       "      <td>False</td>\n",
       "    </tr>\n",
       "    <tr>\n",
       "      <th>...</th>\n",
       "      <td>...</td>\n",
       "      <td>...</td>\n",
       "      <td>...</td>\n",
       "      <td>...</td>\n",
       "      <td>...</td>\n",
       "      <td>...</td>\n",
       "      <td>...</td>\n",
       "      <td>...</td>\n",
       "      <td>...</td>\n",
       "    </tr>\n",
       "    <tr>\n",
       "      <th>10256</th>\n",
       "      <td>False</td>\n",
       "      <td>False</td>\n",
       "      <td>False</td>\n",
       "      <td>False</td>\n",
       "      <td>False</td>\n",
       "      <td>False</td>\n",
       "      <td>False</td>\n",
       "      <td>False</td>\n",
       "      <td>False</td>\n",
       "    </tr>\n",
       "    <tr>\n",
       "      <th>10257</th>\n",
       "      <td>False</td>\n",
       "      <td>False</td>\n",
       "      <td>False</td>\n",
       "      <td>False</td>\n",
       "      <td>False</td>\n",
       "      <td>False</td>\n",
       "      <td>False</td>\n",
       "      <td>False</td>\n",
       "      <td>False</td>\n",
       "    </tr>\n",
       "    <tr>\n",
       "      <th>10258</th>\n",
       "      <td>False</td>\n",
       "      <td>False</td>\n",
       "      <td>False</td>\n",
       "      <td>False</td>\n",
       "      <td>False</td>\n",
       "      <td>False</td>\n",
       "      <td>False</td>\n",
       "      <td>False</td>\n",
       "      <td>False</td>\n",
       "    </tr>\n",
       "    <tr>\n",
       "      <th>10259</th>\n",
       "      <td>False</td>\n",
       "      <td>False</td>\n",
       "      <td>False</td>\n",
       "      <td>False</td>\n",
       "      <td>False</td>\n",
       "      <td>False</td>\n",
       "      <td>False</td>\n",
       "      <td>False</td>\n",
       "      <td>False</td>\n",
       "    </tr>\n",
       "    <tr>\n",
       "      <th>10260</th>\n",
       "      <td>False</td>\n",
       "      <td>False</td>\n",
       "      <td>False</td>\n",
       "      <td>False</td>\n",
       "      <td>False</td>\n",
       "      <td>False</td>\n",
       "      <td>False</td>\n",
       "      <td>False</td>\n",
       "      <td>False</td>\n",
       "    </tr>\n",
       "  </tbody>\n",
       "</table>\n",
       "<p>10261 rows × 9 columns</p>\n",
       "</div>"
      ],
      "text/plain": [
       "       reviewerID   asin  reviewerName  helpful  reviewText  overall  summary  \\\n",
       "0           False  False         False    False       False    False    False   \n",
       "1           False  False         False    False       False    False    False   \n",
       "2           False  False         False    False       False    False    False   \n",
       "3           False  False         False    False       False    False    False   \n",
       "4           False  False         False    False       False    False    False   \n",
       "...           ...    ...           ...      ...         ...      ...      ...   \n",
       "10256       False  False         False    False       False    False    False   \n",
       "10257       False  False         False    False       False    False    False   \n",
       "10258       False  False         False    False       False    False    False   \n",
       "10259       False  False         False    False       False    False    False   \n",
       "10260       False  False         False    False       False    False    False   \n",
       "\n",
       "       unixReviewTime  reviewTime  \n",
       "0               False       False  \n",
       "1               False       False  \n",
       "2               False       False  \n",
       "3               False       False  \n",
       "4               False       False  \n",
       "...               ...         ...  \n",
       "10256           False       False  \n",
       "10257           False       False  \n",
       "10258           False       False  \n",
       "10259           False       False  \n",
       "10260           False       False  \n",
       "\n",
       "[10261 rows x 9 columns]"
      ]
     },
     "execution_count": 6,
     "metadata": {},
     "output_type": "execute_result"
    }
   ],
   "source": [
    "#clean the dataset\n",
    "dataset.isnull()"
   ]
  },
  {
   "cell_type": "code",
   "execution_count": 7,
   "metadata": {
    "colab": {},
    "colab_type": "code",
    "id": "7LgKMSzlgbza"
   },
   "outputs": [],
   "source": [
    "dataset.dropna(inplace=True)"
   ]
  },
  {
   "cell_type": "code",
   "execution_count": 8,
   "metadata": {
    "colab": {
     "base_uri": "https://localhost:8080/",
     "height": 34
    },
    "colab_type": "code",
    "id": "q9KZT2bggbzg",
    "outputId": "f308e26f-a081-43b1-ff41-be41b9e540a6"
   },
   "outputs": [
    {
     "data": {
      "text/plain": [
       "(10227, 9)"
      ]
     },
     "execution_count": 8,
     "metadata": {},
     "output_type": "execute_result"
    }
   ],
   "source": [
    "dataset.shape"
   ]
  },
  {
   "cell_type": "code",
   "execution_count": 9,
   "metadata": {
    "colab": {
     "base_uri": "https://localhost:8080/",
     "height": 282
    },
    "colab_type": "code",
    "id": "nZXZs-Yagbzk",
    "outputId": "1c8dec07-14c5-4af9-e64f-8a384d291a17"
   },
   "outputs": [
    {
     "data": {
      "image/png": "[encoded data removed]",
      "text/plain": [
       "<Figure size 432x288 with 1 Axes>"
      ]
     },
     "metadata": {},
     "output_type": "display_data"
    }
   ],
   "source": [
    "#simple scatterplot\n",
    "import matplotlib.pyplot as plt\n",
    "plt.style.use(\"ggplot\")\n",
    "plt.scatter(dataset['asin'], dataset['overall'], c=\"r\", alpha=0.5, marker=r'o')\n",
    "plt.xlabel(\"PRODUCT_ID\")\n",
    "plt.ylabel(\"RATINGS\")\n",
    "plt.show()"
   ]
  },
  {
   "cell_type": "code",
   "execution_count": 10,
   "metadata": {
    "colab": {},
    "colab_type": "code",
    "id": "2d_5VIqTgbzp",
    "scrolled": true
   },
   "outputs": [],
   "source": [
    "#plot histogram of  overall ratings"
   ]
  },
  {
   "cell_type": "code",
   "execution_count": 11,
   "metadata": {
    "colab": {
     "base_uri": "https://localhost:8080/",
     "height": 282
    },
    "colab_type": "code",
    "id": "zg7gg9pvgbzt",
    "outputId": "c978ddc3-29b0-4db5-e119-b57a271d9cf8"
   },
   "outputs": [
    {
     "data": {
      "text/plain": [
       "<matplotlib.axes._subplots.AxesSubplot at 0x28ea9f40508>"
      ]
     },
     "execution_count": 11,
     "metadata": {},
     "output_type": "execute_result"
    },
    {
     "data": {
      "image/png": "[encoded data removed]",
      "text/plain": [
       "<Figure size 432x288 with 1 Axes>"
      ]
     },
     "metadata": {},
     "output_type": "display_data"
    }
   ],
   "source": [
    "dataset['overall'].hist()"
   ]
  },
  {
   "cell_type": "code",
   "execution_count": 12,
   "metadata": {
    "colab": {},
    "colab_type": "code",
    "id": "CdRaorP_gbzy"
   },
   "outputs": [],
   "source": [
    "ratings = dataset"
   ]
  },
  {
   "cell_type": "code",
   "execution_count": 13,
   "metadata": {
    "colab": {},
    "colab_type": "code",
    "id": "aP6SCL0kgbz2"
   },
   "outputs": [],
   "source": [
    "# building a utility matrix for recommendation system\n",
    "ratings_utility_matrix = ratings.pivot_table(values='overall', index='reviewerID', columns='asin')\n"
   ]
  },
  {
   "cell_type": "code",
   "execution_count": 14,
   "metadata": {
    "colab": {
     "base_uri": "https://localhost:8080/",
     "height": 284
    },
    "colab_type": "code",
    "id": "1bc3cLWvjNvO",
    "outputId": "f76a75cb-f71e-420b-ee37-055d5c201929"
   },
   "outputs": [
    {
     "data": {
      "text/html": [
       "<div>\n",
       "<style scoped>\n",
       "    .dataframe tbody tr th:only-of-type {\n",
       "        vertical-align: middle;\n",
       "    }\n",
       "\n",
       "    .dataframe tbody tr th {\n",
       "        vertical-align: top;\n",
       "    }\n",
       "\n",
       "    .dataframe thead th {\n",
       "        text-align: right;\n",
       "    }\n",
       "</style>\n",
       "<table border=\"1\" class=\"dataframe\">\n",
       "  <thead>\n",
       "    <tr style=\"text-align: right;\">\n",
       "      <th>asin</th>\n",
       "      <th>B000068NVI</th>\n",
       "      <th>B000068NW5</th>\n",
       "      <th>B000068O3X</th>\n",
       "      <th>B000068O4H</th>\n",
       "      <th>B00006LVEU</th>\n",
       "      <th>B0000AQRST</th>\n",
       "      <th>B0000AQRSU</th>\n",
       "      <th>B000165DSM</th>\n",
       "      <th>B0001FTVD6</th>\n",
       "      <th>B0002CZSJO</th>\n",
       "      <th>...</th>\n",
       "      <th>B00A716FB0</th>\n",
       "      <th>B00AQBT3EW</th>\n",
       "      <th>B00AZUAORE</th>\n",
       "      <th>B00BKXN9LS</th>\n",
       "      <th>B00BL6JDUA</th>\n",
       "      <th>B00BU9KCXK</th>\n",
       "      <th>B00GTSM8FW</th>\n",
       "      <th>B00HFRXACG</th>\n",
       "      <th>B00IZCSW3M</th>\n",
       "      <th>B00JBIVXGC</th>\n",
       "    </tr>\n",
       "    <tr>\n",
       "      <th>reviewerID</th>\n",
       "      <th></th>\n",
       "      <th></th>\n",
       "      <th></th>\n",
       "      <th></th>\n",
       "      <th></th>\n",
       "      <th></th>\n",
       "      <th></th>\n",
       "      <th></th>\n",
       "      <th></th>\n",
       "      <th></th>\n",
       "      <th></th>\n",
       "      <th></th>\n",
       "      <th></th>\n",
       "      <th></th>\n",
       "      <th></th>\n",
       "      <th></th>\n",
       "      <th></th>\n",
       "      <th></th>\n",
       "      <th></th>\n",
       "      <th></th>\n",
       "      <th></th>\n",
       "    </tr>\n",
       "  </thead>\n",
       "  <tbody>\n",
       "    <tr>\n",
       "      <th>A00625243BI8W1SSZNLMD</th>\n",
       "      <td>0.0</td>\n",
       "      <td>0.0</td>\n",
       "      <td>0.0</td>\n",
       "      <td>0.0</td>\n",
       "      <td>0.0</td>\n",
       "      <td>0.0</td>\n",
       "      <td>0.0</td>\n",
       "      <td>0.0</td>\n",
       "      <td>0.0</td>\n",
       "      <td>0.0</td>\n",
       "      <td>...</td>\n",
       "      <td>0.0</td>\n",
       "      <td>0.0</td>\n",
       "      <td>0.0</td>\n",
       "      <td>0.0</td>\n",
       "      <td>0.0</td>\n",
       "      <td>0.0</td>\n",
       "      <td>0.0</td>\n",
       "      <td>0.0</td>\n",
       "      <td>0.0</td>\n",
       "      <td>0.0</td>\n",
       "    </tr>\n",
       "    <tr>\n",
       "      <th>A10044ECXDUVKS</th>\n",
       "      <td>0.0</td>\n",
       "      <td>0.0</td>\n",
       "      <td>0.0</td>\n",
       "      <td>0.0</td>\n",
       "      <td>0.0</td>\n",
       "      <td>0.0</td>\n",
       "      <td>0.0</td>\n",
       "      <td>0.0</td>\n",
       "      <td>0.0</td>\n",
       "      <td>0.0</td>\n",
       "      <td>...</td>\n",
       "      <td>0.0</td>\n",
       "      <td>0.0</td>\n",
       "      <td>0.0</td>\n",
       "      <td>0.0</td>\n",
       "      <td>0.0</td>\n",
       "      <td>0.0</td>\n",
       "      <td>0.0</td>\n",
       "      <td>0.0</td>\n",
       "      <td>0.0</td>\n",
       "      <td>0.0</td>\n",
       "    </tr>\n",
       "    <tr>\n",
       "      <th>A102MU6ZC9H1N6</th>\n",
       "      <td>0.0</td>\n",
       "      <td>0.0</td>\n",
       "      <td>0.0</td>\n",
       "      <td>0.0</td>\n",
       "      <td>0.0</td>\n",
       "      <td>0.0</td>\n",
       "      <td>0.0</td>\n",
       "      <td>0.0</td>\n",
       "      <td>0.0</td>\n",
       "      <td>0.0</td>\n",
       "      <td>...</td>\n",
       "      <td>0.0</td>\n",
       "      <td>0.0</td>\n",
       "      <td>0.0</td>\n",
       "      <td>0.0</td>\n",
       "      <td>0.0</td>\n",
       "      <td>0.0</td>\n",
       "      <td>0.0</td>\n",
       "      <td>0.0</td>\n",
       "      <td>0.0</td>\n",
       "      <td>0.0</td>\n",
       "    </tr>\n",
       "    <tr>\n",
       "      <th>A109JTUZXO61UY</th>\n",
       "      <td>0.0</td>\n",
       "      <td>0.0</td>\n",
       "      <td>0.0</td>\n",
       "      <td>0.0</td>\n",
       "      <td>0.0</td>\n",
       "      <td>0.0</td>\n",
       "      <td>0.0</td>\n",
       "      <td>0.0</td>\n",
       "      <td>0.0</td>\n",
       "      <td>5.0</td>\n",
       "      <td>...</td>\n",
       "      <td>0.0</td>\n",
       "      <td>0.0</td>\n",
       "      <td>0.0</td>\n",
       "      <td>0.0</td>\n",
       "      <td>0.0</td>\n",
       "      <td>0.0</td>\n",
       "      <td>0.0</td>\n",
       "      <td>0.0</td>\n",
       "      <td>0.0</td>\n",
       "      <td>0.0</td>\n",
       "    </tr>\n",
       "    <tr>\n",
       "      <th>A109ME7C09HM2M</th>\n",
       "      <td>0.0</td>\n",
       "      <td>0.0</td>\n",
       "      <td>0.0</td>\n",
       "      <td>0.0</td>\n",
       "      <td>0.0</td>\n",
       "      <td>0.0</td>\n",
       "      <td>0.0</td>\n",
       "      <td>0.0</td>\n",
       "      <td>0.0</td>\n",
       "      <td>0.0</td>\n",
       "      <td>...</td>\n",
       "      <td>0.0</td>\n",
       "      <td>0.0</td>\n",
       "      <td>0.0</td>\n",
       "      <td>0.0</td>\n",
       "      <td>0.0</td>\n",
       "      <td>0.0</td>\n",
       "      <td>0.0</td>\n",
       "      <td>0.0</td>\n",
       "      <td>0.0</td>\n",
       "      <td>0.0</td>\n",
       "    </tr>\n",
       "  </tbody>\n",
       "</table>\n",
       "<p>5 rows × 313 columns</p>\n",
       "</div>"
      ],
      "text/plain": [
       "asin                   B000068NVI  B000068NW5  B000068O3X  B000068O4H  \\\n",
       "reviewerID                                                              \n",
       "A00625243BI8W1SSZNLMD         0.0         0.0         0.0         0.0   \n",
       "A10044ECXDUVKS                0.0         0.0         0.0         0.0   \n",
       "A102MU6ZC9H1N6                0.0         0.0         0.0         0.0   \n",
       "A109JTUZXO61UY                0.0         0.0         0.0         0.0   \n",
       "A109ME7C09HM2M                0.0         0.0         0.0         0.0   \n",
       "\n",
       "asin                   B00006LVEU  B0000AQRST  B0000AQRSU  B000165DSM  \\\n",
       "reviewerID                                                              \n",
       "A00625243BI8W1SSZNLMD         0.0         0.0         0.0         0.0   \n",
       "A10044ECXDUVKS                0.0         0.0         0.0         0.0   \n",
       "A102MU6ZC9H1N6                0.0         0.0         0.0         0.0   \n",
       "A109JTUZXO61UY                0.0         0.0         0.0         0.0   \n",
       "A109ME7C09HM2M                0.0         0.0         0.0         0.0   \n",
       "\n",
       "asin                   B0001FTVD6  B0002CZSJO  ...  B00A716FB0  B00AQBT3EW  \\\n",
       "reviewerID                                     ...                           \n",
       "A00625243BI8W1SSZNLMD         0.0         0.0  ...         0.0         0.0   \n",
       "A10044ECXDUVKS                0.0         0.0  ...         0.0         0.0   \n",
       "A102MU6ZC9H1N6                0.0         0.0  ...         0.0         0.0   \n",
       "A109JTUZXO61UY                0.0         5.0  ...         0.0         0.0   \n",
       "A109ME7C09HM2M                0.0         0.0  ...         0.0         0.0   \n",
       "\n",
       "asin                   B00AZUAORE  B00BKXN9LS  B00BL6JDUA  B00BU9KCXK  \\\n",
       "reviewerID                                                              \n",
       "A00625243BI8W1SSZNLMD         0.0         0.0         0.0         0.0   \n",
       "A10044ECXDUVKS                0.0         0.0         0.0         0.0   \n",
       "A102MU6ZC9H1N6                0.0         0.0         0.0         0.0   \n",
       "A109JTUZXO61UY                0.0         0.0         0.0         0.0   \n",
       "A109ME7C09HM2M                0.0         0.0         0.0         0.0   \n",
       "\n",
       "asin                   B00GTSM8FW  B00HFRXACG  B00IZCSW3M  B00JBIVXGC  \n",
       "reviewerID                                                             \n",
       "A00625243BI8W1SSZNLMD         0.0         0.0         0.0         0.0  \n",
       "A10044ECXDUVKS                0.0         0.0         0.0         0.0  \n",
       "A102MU6ZC9H1N6                0.0         0.0         0.0         0.0  \n",
       "A109JTUZXO61UY                0.0         0.0         0.0         0.0  \n",
       "A109ME7C09HM2M                0.0         0.0         0.0         0.0  \n",
       "\n",
       "[5 rows x 313 columns]"
      ]
     },
     "execution_count": 14,
     "metadata": {},
     "output_type": "execute_result"
    }
   ],
   "source": [
    "ratings_utility_matrix = ratings_utility_matrix.dropna(thresh=10, axis=1).fillna(0)\n",
    "ratings_utility_matrix.head()"
   ]
  },
  {
   "cell_type": "code",
   "execution_count": 15,
   "metadata": {
    "colab": {
     "base_uri": "https://localhost:8080/",
     "height": 34
    },
    "colab_type": "code",
    "id": "ZVDpz3CGgbz6",
    "outputId": "292cc9dd-04ba-4166-df38-799eca370093"
   },
   "outputs": [
    {
     "data": {
      "text/plain": [
       "(1428, 313)"
      ]
     },
     "execution_count": 15,
     "metadata": {},
     "output_type": "execute_result"
    }
   ],
   "source": [
    "#get the shape of utility matrix\n",
    "ratings_utility_matrix.shape"
   ]
  },
  {
   "cell_type": "code",
   "execution_count": 16,
   "metadata": {
    "colab": {
     "base_uri": "https://localhost:8080/",
     "height": 284
    },
    "colab_type": "code",
    "id": "YfsxN_DSgbz-",
    "outputId": "7afa3b0a-4863-40d8-e47c-f5992e9a11a7"
   },
   "outputs": [
    {
     "data": {
      "text/html": [
       "<div>\n",
       "<style scoped>\n",
       "    .dataframe tbody tr th:only-of-type {\n",
       "        vertical-align: middle;\n",
       "    }\n",
       "\n",
       "    .dataframe tbody tr th {\n",
       "        vertical-align: top;\n",
       "    }\n",
       "\n",
       "    .dataframe thead th {\n",
       "        text-align: right;\n",
       "    }\n",
       "</style>\n",
       "<table border=\"1\" class=\"dataframe\">\n",
       "  <thead>\n",
       "    <tr style=\"text-align: right;\">\n",
       "      <th>reviewerID</th>\n",
       "      <th>A00625243BI8W1SSZNLMD</th>\n",
       "      <th>A10044ECXDUVKS</th>\n",
       "      <th>A102MU6ZC9H1N6</th>\n",
       "      <th>A109JTUZXO61UY</th>\n",
       "      <th>A109ME7C09HM2M</th>\n",
       "      <th>A10APIDAZISWQF</th>\n",
       "      <th>A10B2J2IRQXBWA</th>\n",
       "      <th>A10E3QH2FQUBLF</th>\n",
       "      <th>A10FM4ILBIMJJ7</th>\n",
       "      <th>A10H2F00ZOT8S2</th>\n",
       "      <th>...</th>\n",
       "      <th>AZ9KESC05F6RI</th>\n",
       "      <th>AZAYBFPLEDFL7</th>\n",
       "      <th>AZBUUKQLYKUCL</th>\n",
       "      <th>AZCP5P3BARLS5</th>\n",
       "      <th>AZE83O4F1IJPR</th>\n",
       "      <th>AZJPNK73JF3XP</th>\n",
       "      <th>AZMHABTPXVLG3</th>\n",
       "      <th>AZMIKIG4BB6BZ</th>\n",
       "      <th>AZPDO6FLSMLFP</th>\n",
       "      <th>AZVME8JMPD3F4</th>\n",
       "    </tr>\n",
       "    <tr>\n",
       "      <th>asin</th>\n",
       "      <th></th>\n",
       "      <th></th>\n",
       "      <th></th>\n",
       "      <th></th>\n",
       "      <th></th>\n",
       "      <th></th>\n",
       "      <th></th>\n",
       "      <th></th>\n",
       "      <th></th>\n",
       "      <th></th>\n",
       "      <th></th>\n",
       "      <th></th>\n",
       "      <th></th>\n",
       "      <th></th>\n",
       "      <th></th>\n",
       "      <th></th>\n",
       "      <th></th>\n",
       "      <th></th>\n",
       "      <th></th>\n",
       "      <th></th>\n",
       "      <th></th>\n",
       "    </tr>\n",
       "  </thead>\n",
       "  <tbody>\n",
       "    <tr>\n",
       "      <th>B000068NVI</th>\n",
       "      <td>0.0</td>\n",
       "      <td>0.0</td>\n",
       "      <td>0.0</td>\n",
       "      <td>0.0</td>\n",
       "      <td>0.0</td>\n",
       "      <td>0.0</td>\n",
       "      <td>0.0</td>\n",
       "      <td>0.0</td>\n",
       "      <td>0.0</td>\n",
       "      <td>0.0</td>\n",
       "      <td>...</td>\n",
       "      <td>0.0</td>\n",
       "      <td>0.0</td>\n",
       "      <td>0.0</td>\n",
       "      <td>0.0</td>\n",
       "      <td>0.0</td>\n",
       "      <td>0.0</td>\n",
       "      <td>0.0</td>\n",
       "      <td>0.0</td>\n",
       "      <td>0.0</td>\n",
       "      <td>0.0</td>\n",
       "    </tr>\n",
       "    <tr>\n",
       "      <th>B000068NW5</th>\n",
       "      <td>0.0</td>\n",
       "      <td>0.0</td>\n",
       "      <td>0.0</td>\n",
       "      <td>0.0</td>\n",
       "      <td>0.0</td>\n",
       "      <td>0.0</td>\n",
       "      <td>0.0</td>\n",
       "      <td>0.0</td>\n",
       "      <td>0.0</td>\n",
       "      <td>0.0</td>\n",
       "      <td>...</td>\n",
       "      <td>0.0</td>\n",
       "      <td>0.0</td>\n",
       "      <td>0.0</td>\n",
       "      <td>0.0</td>\n",
       "      <td>0.0</td>\n",
       "      <td>0.0</td>\n",
       "      <td>0.0</td>\n",
       "      <td>0.0</td>\n",
       "      <td>0.0</td>\n",
       "      <td>0.0</td>\n",
       "    </tr>\n",
       "    <tr>\n",
       "      <th>B000068O3X</th>\n",
       "      <td>0.0</td>\n",
       "      <td>0.0</td>\n",
       "      <td>0.0</td>\n",
       "      <td>0.0</td>\n",
       "      <td>0.0</td>\n",
       "      <td>0.0</td>\n",
       "      <td>0.0</td>\n",
       "      <td>0.0</td>\n",
       "      <td>0.0</td>\n",
       "      <td>0.0</td>\n",
       "      <td>...</td>\n",
       "      <td>0.0</td>\n",
       "      <td>0.0</td>\n",
       "      <td>0.0</td>\n",
       "      <td>0.0</td>\n",
       "      <td>0.0</td>\n",
       "      <td>0.0</td>\n",
       "      <td>0.0</td>\n",
       "      <td>0.0</td>\n",
       "      <td>0.0</td>\n",
       "      <td>0.0</td>\n",
       "    </tr>\n",
       "    <tr>\n",
       "      <th>B000068O4H</th>\n",
       "      <td>0.0</td>\n",
       "      <td>0.0</td>\n",
       "      <td>0.0</td>\n",
       "      <td>0.0</td>\n",
       "      <td>0.0</td>\n",
       "      <td>0.0</td>\n",
       "      <td>0.0</td>\n",
       "      <td>0.0</td>\n",
       "      <td>0.0</td>\n",
       "      <td>0.0</td>\n",
       "      <td>...</td>\n",
       "      <td>0.0</td>\n",
       "      <td>0.0</td>\n",
       "      <td>0.0</td>\n",
       "      <td>0.0</td>\n",
       "      <td>0.0</td>\n",
       "      <td>0.0</td>\n",
       "      <td>0.0</td>\n",
       "      <td>0.0</td>\n",
       "      <td>0.0</td>\n",
       "      <td>0.0</td>\n",
       "    </tr>\n",
       "    <tr>\n",
       "      <th>B00006LVEU</th>\n",
       "      <td>0.0</td>\n",
       "      <td>0.0</td>\n",
       "      <td>0.0</td>\n",
       "      <td>0.0</td>\n",
       "      <td>0.0</td>\n",
       "      <td>0.0</td>\n",
       "      <td>0.0</td>\n",
       "      <td>0.0</td>\n",
       "      <td>0.0</td>\n",
       "      <td>0.0</td>\n",
       "      <td>...</td>\n",
       "      <td>0.0</td>\n",
       "      <td>0.0</td>\n",
       "      <td>0.0</td>\n",
       "      <td>0.0</td>\n",
       "      <td>0.0</td>\n",
       "      <td>0.0</td>\n",
       "      <td>0.0</td>\n",
       "      <td>0.0</td>\n",
       "      <td>0.0</td>\n",
       "      <td>0.0</td>\n",
       "    </tr>\n",
       "  </tbody>\n",
       "</table>\n",
       "<p>5 rows × 1428 columns</p>\n",
       "</div>"
      ],
      "text/plain": [
       "reviewerID  A00625243BI8W1SSZNLMD  A10044ECXDUVKS  A102MU6ZC9H1N6  \\\n",
       "asin                                                                \n",
       "B000068NVI                    0.0             0.0             0.0   \n",
       "B000068NW5                    0.0             0.0             0.0   \n",
       "B000068O3X                    0.0             0.0             0.0   \n",
       "B000068O4H                    0.0             0.0             0.0   \n",
       "B00006LVEU                    0.0             0.0             0.0   \n",
       "\n",
       "reviewerID  A109JTUZXO61UY  A109ME7C09HM2M  A10APIDAZISWQF  A10B2J2IRQXBWA  \\\n",
       "asin                                                                         \n",
       "B000068NVI             0.0             0.0             0.0             0.0   \n",
       "B000068NW5             0.0             0.0             0.0             0.0   \n",
       "B000068O3X             0.0             0.0             0.0             0.0   \n",
       "B000068O4H             0.0             0.0             0.0             0.0   \n",
       "B00006LVEU             0.0             0.0             0.0             0.0   \n",
       "\n",
       "reviewerID  A10E3QH2FQUBLF  A10FM4ILBIMJJ7  A10H2F00ZOT8S2  ...  \\\n",
       "asin                                                        ...   \n",
       "B000068NVI             0.0             0.0             0.0  ...   \n",
       "B000068NW5             0.0             0.0             0.0  ...   \n",
       "B000068O3X             0.0             0.0             0.0  ...   \n",
       "B000068O4H             0.0             0.0             0.0  ...   \n",
       "B00006LVEU             0.0             0.0             0.0  ...   \n",
       "\n",
       "reviewerID  AZ9KESC05F6RI  AZAYBFPLEDFL7  AZBUUKQLYKUCL  AZCP5P3BARLS5  \\\n",
       "asin                                                                     \n",
       "B000068NVI            0.0            0.0            0.0            0.0   \n",
       "B000068NW5            0.0            0.0            0.0            0.0   \n",
       "B000068O3X            0.0            0.0            0.0            0.0   \n",
       "B000068O4H            0.0            0.0            0.0            0.0   \n",
       "B00006LVEU            0.0            0.0            0.0            0.0   \n",
       "\n",
       "reviewerID  AZE83O4F1IJPR  AZJPNK73JF3XP  AZMHABTPXVLG3  AZMIKIG4BB6BZ  \\\n",
       "asin                                                                     \n",
       "B000068NVI            0.0            0.0            0.0            0.0   \n",
       "B000068NW5            0.0            0.0            0.0            0.0   \n",
       "B000068O3X            0.0            0.0            0.0            0.0   \n",
       "B000068O4H            0.0            0.0            0.0            0.0   \n",
       "B00006LVEU            0.0            0.0            0.0            0.0   \n",
       "\n",
       "reviewerID  AZPDO6FLSMLFP  AZVME8JMPD3F4  \n",
       "asin                                      \n",
       "B000068NVI            0.0            0.0  \n",
       "B000068NW5            0.0            0.0  \n",
       "B000068O3X            0.0            0.0  \n",
       "B000068O4H            0.0            0.0  \n",
       "B00006LVEU            0.0            0.0  \n",
       "\n",
       "[5 rows x 1428 columns]"
      ]
     },
     "execution_count": 16,
     "metadata": {},
     "output_type": "execute_result"
    }
   ],
   "source": [
    "#transpose of the utility matrix\n",
    "X = ratings_utility_matrix.T\n",
    "X.head()"
   ]
  },
  {
   "cell_type": "code",
   "execution_count": 17,
   "metadata": {
    "colab": {},
    "colab_type": "code",
    "id": "QEO6LivVgb0D"
   },
   "outputs": [],
   "source": [
    "#Unique products in subset of data\n",
    "X1 = X"
   ]
  },
  {
   "cell_type": "code",
   "execution_count": 18,
   "metadata": {
    "colab": {
     "base_uri": "https://localhost:8080/",
     "height": 34
    },
    "colab_type": "code",
    "id": "1WpULjmFgb0I",
    "outputId": "f500fe31-e5f0-4555-804c-603220646a4b"
   },
   "outputs": [
    {
     "data": {
      "text/plain": [
       "(313, 1428)"
      ]
     },
     "execution_count": 18,
     "metadata": {},
     "output_type": "execute_result"
    }
   ],
   "source": [
    "X.shape"
   ]
  },
  {
   "cell_type": "code",
   "execution_count": 19,
   "metadata": {
    "colab": {},
    "colab_type": "code",
    "id": "vJGH083Dgb0O"
   },
   "outputs": [],
   "source": [
    "import sklearn\n",
    "from sklearn.decomposition import TruncatedSVD"
   ]
  },
  {
   "cell_type": "code",
   "execution_count": 20,
   "metadata": {
    "colab": {
     "base_uri": "https://localhost:8080/",
     "height": 34
    },
    "colab_type": "code",
    "id": "_e0MeZpugb0T",
    "outputId": "c82b46d4-99cb-486c-8c76-76386550e2d0"
   },
   "outputs": [
    {
     "data": {
      "text/plain": [
       "(313, 10)"
      ]
     },
     "execution_count": 20,
     "metadata": {},
     "output_type": "execute_result"
    }
   ],
   "source": [
    "#decompose the matrix\n",
    "SVD = TruncatedSVD(n_components=10)\n",
    "decomposed_matrix = SVD.fit_transform(X)\n",
    "decomposed_matrix.shape"
   ]
  },
  {
   "cell_type": "code",
   "execution_count": 21,
   "metadata": {
    "colab": {
     "base_uri": "https://localhost:8080/",
     "height": 34
    },
    "colab_type": "code",
    "id": "LsKd_kWfgb0Y",
    "outputId": "95921cd4-d5de-4a6c-d1f0-53a24f396e01"
   },
   "outputs": [
    {
     "data": {
      "text/plain": [
       "(313, 313)"
      ]
     },
     "execution_count": 21,
     "metadata": {},
     "output_type": "execute_result"
    }
   ],
   "source": [
    "#correlation matrix\n",
    "correlation_matrix = np.corrcoef(decomposed_matrix)\n",
    "correlation_matrix.shape"
   ]
  },
  {
   "cell_type": "code",
   "execution_count": 22,
   "metadata": {
    "colab": {
     "base_uri": "https://localhost:8080/",
     "height": 35
    },
    "colab_type": "code",
    "id": "Wn-MxCa6gb0d",
    "outputId": "52ab1af8-5900-411f-9af4-8c0c710e2d4f"
   },
   "outputs": [
    {
     "data": {
      "text/plain": [
       "'B0002CZSJO'"
      ]
     },
     "execution_count": 22,
     "metadata": {},
     "output_type": "execute_result"
    }
   ],
   "source": [
    "# isolate a product from matrix\n",
    "X.index[9]"
   ]
  },
  {
   "cell_type": "code",
   "execution_count": null,
   "metadata": {
    "colab": {
     "base_uri": "https://localhost:8080/",
     "height": 51
    },
    "colab_type": "code",
    "id": "84bY95Sagb0g",
    "outputId": "13b48cee-244f-46e6-ca39-b295f549b339"
   },
   "outputs": [],
   "source": [
    "#index of asin purchased by customer\n",
    "i = input(\"Enter a valid product ID: \").rstrip()\n",
    "product_names = list(X.index)\n",
    "product_ID = product_names.index(i)\n",
    "product_ID"
   ]
  },
  {
   "cell_type": "code",
   "execution_count": null,
   "metadata": {
    "colab": {
     "base_uri": "https://localhost:8080/",
     "height": 34
    },
    "colab_type": "code",
    "id": "JcZ4tdGUgb0k",
    "outputId": "3b35bf01-8f8c-4c63-8a2e-6d626fcb4f20"
   },
   "outputs": [],
   "source": [
    "#Correlation for all items with the item purchased by this customer \n",
    "#based on items rated by other customers people who bought the same product\n",
    "correlation_product_ID = correlation_matrix[product_ID]\n",
    "correlation_product_ID.shape"
   ]
  },
  {
   "cell_type": "code",
   "execution_count": null,
   "metadata": {
    "colab": {
     "base_uri": "https://localhost:8080/",
     "height": 51
    },
    "colab_type": "code",
    "id": "vblLQvfPgb0o",
    "outputId": "431912b8-2935-4a72-e371-58d86e4183ea"
   },
   "outputs": [],
   "source": [
    "# recommend top 10 product in sequence\n",
    "\n",
    "Recommend = list(X.index[correlation_product_ID > 0.90])\n",
    "\n",
    "# Removes the item already bought by the customer\n",
    "Recommend.remove(i) \n",
    "print(\"The recommended products are:\")\n",
    "Recommend[0:9]"
   ]
  },
  {
   "cell_type": "markdown",
   "metadata": {
    "colab_type": "text",
    "id": "J4qua2n9gb0s"
   },
   "source": [
    "# Product based system for new customers"
   ]
  },
  {
   "cell_type": "code",
   "execution_count": null,
   "metadata": {
    "colab": {
     "base_uri": "https://localhost:8080/",
     "height": 390
    },
    "colab_type": "code",
    "id": "iGDam0LAgb0t",
    "outputId": "9da80de6-0cea-4d46-9f79-549c33357ef8"
   },
   "outputs": [],
   "source": [
    "#get and group popular products\n",
    "popular_products = pd.DataFrame(dataset.groupby('asin')['overall'].count())\n",
    "most_popular = popular_products.sort_values('overall', ascending=False)\n",
    "most_popular.head(10)"
   ]
  },
  {
   "cell_type": "code",
   "execution_count": null,
   "metadata": {
    "colab": {
     "base_uri": "https://localhost:8080/",
     "height": 359
    },
    "colab_type": "code",
    "id": "HOmwYG1zgb0x",
    "outputId": "5ab13d2a-d3f3-45a9-cf3a-1a7def636733"
   },
   "outputs": [],
   "source": [
    "#The below graph gives us the top 20 most popular products (arranged in descending order) sold by the business\n",
    "most_popular.head(20).plot(kind = \"bar\")"
   ]
  },
  {
   "cell_type": "markdown",
   "metadata": {
    "colab_type": "text",
    "id": "Q0ynu-rigb01"
   },
   "source": [
    "#### product recommendations can be based on textual clustering analysis given in product description"
   ]
  },
  {
   "cell_type": "code",
   "execution_count": null,
   "metadata": {
    "colab": {},
    "colab_type": "code",
    "id": "1I_8ieafgb02"
   },
   "outputs": [],
   "source": [
    "# Importing libraries\n",
    "from sklearn.feature_extraction.text import TfidfVectorizer, CountVectorizer\n",
    "from sklearn.neighbors import NearestNeighbors\n",
    "from sklearn.cluster import KMeans\n",
    "from sklearn.metrics import adjusted_rand_score"
   ]
  },
  {
   "cell_type": "code",
   "execution_count": null,
   "metadata": {
    "colab": {},
    "colab_type": "code",
    "id": "afYspTFrgb09"
   },
   "outputs": [],
   "source": [
    "#get a product description having product id and review text\n",
    "df=pd.DataFrame(ratings)\n",
    "product_descriptions=df[['asin','reviewText']]"
   ]
  },
  {
   "cell_type": "code",
   "execution_count": null,
   "metadata": {
    "colab": {
     "base_uri": "https://localhost:8080/",
     "height": 34
    },
    "colab_type": "code",
    "id": "C0tsDZiQgb1B",
    "outputId": "9cde717f-91dc-4ec9-d083-34e9745ee576"
   },
   "outputs": [],
   "source": [
    "product_descriptions.shape"
   ]
  },
  {
   "cell_type": "code",
   "execution_count": null,
   "metadata": {
    "colab": {
     "base_uri": "https://localhost:8080/",
     "height": 221
    },
    "colab_type": "code",
    "id": "9b91gwcCgb1F",
    "outputId": "3fce3b3c-f4bb-43b5-c492-b50c65cb5911"
   },
   "outputs": [],
   "source": [
    "#clean the dataset\n",
    "product_descriptions = product_descriptions.dropna()\n",
    "print(product_descriptions.shape)\n",
    "product_descriptions.head()"
   ]
  },
  {
   "cell_type": "code",
   "execution_count": null,
   "metadata": {
    "colab": {
     "base_uri": "https://localhost:8080/",
     "height": 204
    },
    "colab_type": "code",
    "id": "iTEprnzJgb1K",
    "outputId": "9bf309ae-f5ef-46eb-9684-911bfe5baf19"
   },
   "outputs": [],
   "source": [
    "product_descriptions1 = product_descriptions.head(500)\n",
    "# product_descriptions1.iloc[:,1]\n",
    "\n",
    "product_descriptions1[\"reviewText\"].head(10)"
   ]
  },
  {
   "cell_type": "code",
   "execution_count": null,
   "metadata": {
    "colab": {
     "base_uri": "https://localhost:8080/",
     "height": 51
    },
    "colab_type": "code",
    "id": "Y0D91w2Rgb1O",
    "outputId": "cc5c6780-0478-4113-a39c-1c8ed71ee2e0"
   },
   "outputs": [],
   "source": [
    "#Converting the text in product description into numerical data for analysis\n",
    "vectorizer = TfidfVectorizer(stop_words='english')\n",
    "X1 = vectorizer.fit_transform(product_descriptions1[\"reviewText\"])\n",
    "X1"
   ]
  },
  {
   "cell_type": "code",
   "execution_count": null,
   "metadata": {
    "colab": {
     "base_uri": "https://localhost:8080/",
     "height": 265
    },
    "colab_type": "code",
    "id": "Z9FhEitRgb1S",
    "outputId": "5e3f117f-26a1-4626-aef2-fe3661f30434"
   },
   "outputs": [],
   "source": [
    "#Visualizing product clusters in subset of data\n",
    "# Fitting K-Means to the dataset\n",
    "X=X1\n",
    "kmeans = KMeans(n_clusters = 10, init = 'k-means++')\n",
    "y_kmeans = kmeans.fit_predict(X)\n",
    "plt.plot(y_kmeans, \"^\")\n",
    "plt.show()"
   ]
  },
  {
   "cell_type": "code",
   "execution_count": null,
   "metadata": {
    "colab": {},
    "colab_type": "code",
    "id": "2A4qaq7pgb1X"
   },
   "outputs": [],
   "source": [
    "def print_cluster(i):\n",
    "    print(\"Cluster %d:\" % i),\n",
    "    for ind in order_centroids[i, :10]:\n",
    "        print(' %s' % terms[ind]),\n",
    "    print"
   ]
  },
  {
   "cell_type": "code",
   "execution_count": null,
   "metadata": {
    "colab": {
     "base_uri": "https://localhost:8080/",
     "height": 136
    },
    "colab_type": "code",
    "id": "b0FCEwNWgb1c",
    "outputId": "4902b05a-e912-4529-b370-75af9a021f0e"
   },
   "outputs": [],
   "source": [
    "#Recommendation of product based on the current product selected by user.\n",
    "#To recommend related product based on, Frequently bought together.\n",
    "order_centroids"
   ]
  },
  {
   "cell_type": "code",
   "execution_count": null,
   "metadata": {
    "colab": {
     "base_uri": "https://localhost:8080/",
     "height": 1000
    },
    "colab_type": "code",
    "id": "-Jfu4jYYgb1g",
    "outputId": "d2639d75-627d-499d-f2b8-c1f0324e2b4f"
   },
   "outputs": [],
   "source": [
    "# # Optimal clusters is \n",
    "\n",
    "true_k = 10\n",
    "\n",
    "model = KMeans(n_clusters=true_k, init='k-means++', max_iter=100, n_init=1)\n",
    "model.fit(X1)\n",
    "\n",
    "print(\"Top terms per cluster:\")\n",
    "order_centroids = model.cluster_centers_.argsort()[:, ::-1]\n",
    "terms = vectorizer.get_feature_names()\n",
    "for i in range(true_k):\n",
    "    print_cluster(i)"
   ]
  },
  {
   "cell_type": "code",
   "execution_count": null,
   "metadata": {
    "colab": {},
    "colab_type": "code",
    "id": "sYeA8LDNgb1k"
   },
   "outputs": [],
   "source": [
    "#Predicting clusters based on key search words\n",
    "\n",
    "def show_recommendations(product):\n",
    "    #print(\"Cluster ID:\")\n",
    "    Y = vectorizer.transform([product])\n",
    "    prediction = model.predict(Y)\n",
    "    print_cluster(prediction[0])"
   ]
  },
  {
   "cell_type": "code",
   "execution_count": null,
   "metadata": {
    "colab": {
     "base_uri": "https://localhost:8080/",
     "height": 204
    },
    "colab_type": "code",
    "id": "Y6iXCX_4gb1p",
    "outputId": "3e5fdb73-7a00-41f7-e980-86f56f0578d2"
   },
   "outputs": [],
   "source": [
    "show_recommendations(\"tabla\")"
   ]
  },
  {
   "cell_type": "code",
   "execution_count": null,
   "metadata": {
    "colab": {
     "base_uri": "https://localhost:8080/",
     "height": 204
    },
    "colab_type": "code",
    "id": "AbWeTEougb1u",
    "outputId": "f07e4ef5-2471-4d09-8713-216f1cf5c408"
   },
   "outputs": [],
   "source": [
    "show_recommendations(\"water\")"
   ]
  },
  {
   "cell_type": "code",
   "execution_count": null,
   "metadata": {
    "colab": {
     "base_uri": "https://localhost:8080/",
     "height": 204
    },
    "colab_type": "code",
    "id": "en3-qKoRgb1x",
    "outputId": "3c1763a7-dc29-468c-82af-f24910adfa63"
   },
   "outputs": [],
   "source": [
    "show_recommendations(\"piano\")"
   ]
  },
  {
   "cell_type": "code",
   "execution_count": null,
   "metadata": {
    "colab": {
     "base_uri": "https://localhost:8080/",
     "height": 204
    },
    "colab_type": "code",
    "id": "vGnF0Wfzgb15",
    "outputId": "a16e5dd4-77eb-48e6-a133-b8fe536e7336"
   },
   "outputs": [],
   "source": [
    "show_recommendations(\"keyboard\")"
   ]
  },
  {
   "cell_type": "code",
   "execution_count": null,
   "metadata": {
    "colab": {
     "base_uri": "https://localhost:8080/",
     "height": 204
    },
    "colab_type": "code",
    "id": "2rrNGNmwgb2B",
    "outputId": "c85c87d4-018a-4c45-87e1-30bec5bbcb86"
   },
   "outputs": [],
   "source": [
    "show_recommendations(\"pedal\")"
   ]
  },
  {
   "cell_type": "code",
   "execution_count": null,
   "metadata": {
    "colab": {
     "base_uri": "https://localhost:8080/",
     "height": 204
    },
    "colab_type": "code",
    "id": "HuCXJV3rgb2F",
    "outputId": "4e5477a1-3dfb-408d-f4d4-8cc33331b49f"
   },
   "outputs": [],
   "source": [
    "show_recommendations(\"drum\")"
   ]
  },
  {
   "cell_type": "code",
   "execution_count": null,
   "metadata": {
    "colab": {
     "base_uri": "https://localhost:8080/",
     "height": 204
    },
    "colab_type": "code",
    "id": "cOhgQbyZgb2L",
    "outputId": "0a36b40e-117c-4ec4-f64f-a50c9e95b9d1"
   },
   "outputs": [],
   "source": [
    "show_recommendations(\"pop\")"
   ]
  },
  {
   "cell_type": "code",
   "execution_count": null,
   "metadata": {
    "colab": {
     "base_uri": "https://localhost:8080/",
     "height": 204
    },
    "colab_type": "code",
    "id": "sbEileWDgb2R",
    "outputId": "6c89e613-20fa-4d6c-cd58-ca9108d207fa",
    "scrolled": true
   },
   "outputs": [],
   "source": [
    "show_recommendations(\"xlr\")"
   ]
  },
  {
   "cell_type": "code",
   "execution_count": null,
   "metadata": {
    "colab": {
     "base_uri": "https://localhost:8080/",
     "height": 204
    },
    "colab_type": "code",
    "id": "Lz7_oQLLgb2Y",
    "outputId": "fa8e66b5-94f4-496f-d19a-5aa52f994501"
   },
   "outputs": [],
   "source": [
    "show_recommendations(\"guitar\")"
   ]
  }
 ],
 "metadata": {
  "colab": {
   "collapsed_sections": [],
   "name": "prs.ipynb",
   "provenance": [],
   "toc_visible": true
  },
  "kernelspec": {
   "display_name": "Python 3",
   "language": "python",
   "name": "python3"
  },
  "language_info": {
   "codemirror_mode": {
    "name": "ipython",
    "version": 3
   },
   "file_extension": ".py",
   "mimetype": "text/x-python",
   "name": "python",
   "nbconvert_exporter": "python",
   "pygments_lexer": "ipython3",
   "version": "3.7.6"
  }
 },
 "nbformat": 4,
 "nbformat_minor": 1
}
